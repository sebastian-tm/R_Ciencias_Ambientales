{
  "nbformat": 4,
  "nbformat_minor": 0,
  "metadata": {
    "colab": {
      "provenance": [],
      "authorship_tag": "ABX9TyM3pdl26yJj4IlfI8l8hIIT",
      "include_colab_link": true
    },
    "kernelspec": {
      "name": "python3",
      "display_name": "Python 3"
    },
    "language_info": {
      "name": "python"
    }
  },
  "cells": [
    {
      "cell_type": "markdown",
      "metadata": {
        "id": "view-in-github",
        "colab_type": "text"
      },
      "source": [
        "<a href=\"https://colab.research.google.com/github/sebastian-tm/R_Ciencias_Ambientales/blob/main/01_Introduccion.ipynb\" target=\"_parent\"><img src=\"https://colab.research.google.com/assets/colab-badge.svg\" alt=\"Open In Colab\"/></a>"
      ]
    },
    {
      "cell_type": "markdown",
      "source": [
        "<!--COURSE_INFORMATION-->\n",
        "<img align=\"left\" style=\"padding-right:10px;\" src=\"https://github.com/sebastian-tm/R_Ciencias_Ambientales/blob/main/images/ucsm_logo.png?raw=true\" width=10% >\n",
        "<img align=\"right\" style=\"padding-left:10px;\" src=\"https://github.com/sebastian-tm/R_Ciencias_Ambientales/blob/main/images/rstudio.png?raw=true\" width=10% >\n",
        "\n",
        "**Bienvenidos!** Este *colab notebook* es parte del curso [**R aplicado a las ciencias ambientales**](https://github.com/sebastian-tm/R_Ciencias_Ambientales) desarrollado por el [**Laboratorio de Ecología y Biodiversidad de la UCSM**](https://investigacion.ucsm.edu.pe/). Obten mas informacion del curso en este [**enlace**](https://github.com/sebastian-tm/R_Ciencias_Ambientales). El contenido del curso esta disponible en [**GitHub**](https://github.com/sebastian-tm/R_Ciencias_Ambientales) bajo licencia [**MIT**](https://opensource.org/licenses/MIT)."
      ],
      "metadata": {
        "id": "LvcAzhUfgrCl"
      }
    },
    {
      "cell_type": "code",
      "source": [],
      "metadata": {
        "id": "vPvQVvA_zxzu"
      },
      "execution_count": null,
      "outputs": []
    }
  ]
}